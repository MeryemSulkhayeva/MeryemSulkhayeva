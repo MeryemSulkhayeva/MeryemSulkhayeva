{
  "nbformat": 4,
  "nbformat_minor": 0,
  "metadata": {
    "colab": {
      "provenance": [],
      "gpuType": "T4",
      "authorship_tag": "ABX9TyMjtFCSHMfzkEJEBdCdm/rX",
      "include_colab_link": true
    },
    "kernelspec": {
      "name": "python3",
      "display_name": "Python 3"
    },
    "language_info": {
      "name": "python"
    },
    "accelerator": "GPU"
  },
  "cells": [
    {
      "cell_type": "markdown",
      "metadata": {
        "id": "view-in-github",
        "colab_type": "text"
      },
      "source": [
        "<a href=\"https://colab.research.google.com/github/MeryemSulkhayeva/MeryemSulkhayeva/blob/main/Cifar10.ipynb\" target=\"_parent\"><img src=\"https://colab.research.google.com/assets/colab-badge.svg\" alt=\"Open In Colab\"/></a>"
      ]
    },
    {
      "cell_type": "code",
      "execution_count": null,
      "metadata": {
        "id": "P-tKtz1cNonH"
      },
      "outputs": [],
      "source": [
        "import pandas as pd\n",
        "import numpy as np\n",
        "import matplotlib.pyplot as mlt\n",
        "import tensorflow as tf\n",
        "from tensorflow.keras.datasets import cifar10\n",
        "from tensorflow.keras.models import Sequential\n",
        "from tensorflow.keras.layers import Dense, Flatten"
      ]
    },
    {
      "cell_type": "code",
      "source": [
        "import tensorflow as tf\n",
        "from sklearn.model_selection import train_test_split\n",
        "\n",
        "# (X_train_full, y_train_full), (X_test, y_test) = tf.keras.datasets.cifar10.load_data()\n",
        "# X_train,X_test, y_train, y_valid = train_test_split(X_train_full, y_train_full, test_size=0.2)\n",
        "\n",
        "(X_train_full, y_train_full), (X_test, y_test) = tf.keras.datasets.cifar10.load_data()\n",
        "X_train,X_valid, y_train, y_valid = train_test_split(X_train_full, y_train_full, test_size=0.2, random_state=42)"
      ],
      "metadata": {
        "id": "KeDMoj2wr-AY",
        "colab": {
          "base_uri": "https://localhost:8080/"
        },
        "outputId": "ce475668-3941-4e1d-c7f5-8300225204ef"
      },
      "execution_count": null,
      "outputs": [
        {
          "output_type": "stream",
          "name": "stdout",
          "text": [
            "Downloading data from https://www.cs.toronto.edu/~kriz/cifar-10-python.tar.gz\n",
            "170498071/170498071 [==============================] - 6s 0us/step\n"
          ]
        }
      ]
    },
    {
      "cell_type": "code",
      "source": [
        "X_train.shape, y_train.shape"
      ],
      "metadata": {
        "colab": {
          "base_uri": "https://localhost:8080/"
        },
        "id": "NIk1lUEpzNXI",
        "outputId": "36ab7223-a273-4b20-ee8f-c05e19d5d3ef"
      },
      "execution_count": null,
      "outputs": [
        {
          "output_type": "execute_result",
          "data": {
            "text/plain": [
              "((40000, 32, 32, 3), (40000, 1))"
            ]
          },
          "metadata": {},
          "execution_count": 3
        }
      ]
    },
    {
      "cell_type": "code",
      "source": [
        "# X_train = X_train/255.\n",
        "# X_valid = X_valid / 255.0\n",
        "# X_test = X_test / 255.0"
      ],
      "metadata": {
        "id": "7UoGUR8Qt9W8"
      },
      "execution_count": null,
      "outputs": []
    },
    {
      "cell_type": "code",
      "source": [
        "model = Sequential()\n",
        "model.add(Flatten(input_shape=[32,32,3]))\n",
        "\n",
        "for _ in range(20):\n",
        "  model.add(Dense(100, activation='relu', kernel_initializer='he_normal'))\n",
        "model.add(Dense(10, activation='softmax'))"
      ],
      "metadata": {
        "id": "2BPeg6kiplr_"
      },
      "execution_count": null,
      "outputs": []
    },
    {
      "cell_type": "code",
      "source": [
        "optimizer = tf.keras.optimizers.Nadam(learning_rate=5e-5)\n",
        "model.compile(optimizer=optimizer, loss='sparse_categorical_crossentropy', metrics=['accuracy'])\n",
        "\n",
        "model.fit(X_train[:5000], y_train[:5000], epochs=10, validation_data=(X_train, y_train))"
      ],
      "metadata": {
        "colab": {
          "base_uri": "https://localhost:8080/"
        },
        "id": "wyXwGMu9q_-j",
        "outputId": "fbbd84e5-267d-4d5f-b16d-ad5856458765"
      },
      "execution_count": null,
      "outputs": [
        {
          "output_type": "stream",
          "name": "stdout",
          "text": [
            "Epoch 1/10\n",
            "157/157 [==============================] - 18s 34ms/step - loss: 9.4004 - accuracy: 0.1012 - val_loss: 3.6268 - val_accuracy: 0.1106\n",
            "Epoch 2/10\n",
            "157/157 [==============================] - 4s 29ms/step - loss: 3.1546 - accuracy: 0.1202 - val_loss: 2.7666 - val_accuracy: 0.1281\n",
            "Epoch 3/10\n",
            "157/157 [==============================] - 4s 27ms/step - loss: 2.6116 - accuracy: 0.1358 - val_loss: 2.5377 - val_accuracy: 0.1354\n",
            "Epoch 4/10\n",
            "157/157 [==============================] - 5s 29ms/step - loss: 2.4206 - accuracy: 0.1522 - val_loss: 2.4486 - val_accuracy: 0.1559\n",
            "Epoch 5/10\n",
            "157/157 [==============================] - 4s 28ms/step - loss: 2.3227 - accuracy: 0.1794 - val_loss: 2.3239 - val_accuracy: 0.1708\n",
            "Epoch 6/10\n",
            "157/157 [==============================] - 4s 26ms/step - loss: 2.2479 - accuracy: 0.1962 - val_loss: 2.2382 - val_accuracy: 0.1816\n",
            "Epoch 7/10\n",
            "157/157 [==============================] - 5s 31ms/step - loss: 2.1923 - accuracy: 0.1980 - val_loss: 2.2062 - val_accuracy: 0.2002\n",
            "Epoch 8/10\n",
            "157/157 [==============================] - 4s 27ms/step - loss: 2.1444 - accuracy: 0.2134 - val_loss: 2.2334 - val_accuracy: 0.1975\n",
            "Epoch 9/10\n",
            "157/157 [==============================] - 7s 44ms/step - loss: 2.1223 - accuracy: 0.2256 - val_loss: 2.2100 - val_accuracy: 0.1902\n",
            "Epoch 10/10\n",
            "157/157 [==============================] - 6s 38ms/step - loss: 2.0966 - accuracy: 0.2334 - val_loss: 2.1297 - val_accuracy: 0.2183\n"
          ]
        },
        {
          "output_type": "execute_result",
          "data": {
            "text/plain": [
              "<keras.src.callbacks.History at 0x78d716010eb0>"
            ]
          },
          "metadata": {},
          "execution_count": 6
        }
      ]
    },
    {
      "cell_type": "code",
      "source": [
        "X_train.shape, y_train.shape"
      ],
      "metadata": {
        "colab": {
          "base_uri": "https://localhost:8080/"
        },
        "id": "myKKd9fRyirN",
        "outputId": "6f9b8d9d-5120-4247-f029-263d20a5da3c"
      },
      "execution_count": null,
      "outputs": [
        {
          "output_type": "execute_result",
          "data": {
            "text/plain": [
              "((40000, 32, 32, 3), (40000, 1))"
            ]
          },
          "metadata": {},
          "execution_count": 7
        }
      ]
    },
    {
      "cell_type": "code",
      "source": [
        "from tensorflow.keras.callbacks import EarlyStopping\n",
        "early_stopping = EarlyStopping(patience= 5, monitor='loss')\n",
        "\n",
        "history = model.fit(X_train[:5000], y_train[:5000], epochs=100, callbacks=[early_stopping], validation_data=(X_train, y_train))"
      ],
      "metadata": {
        "colab": {
          "base_uri": "https://localhost:8080/"
        },
        "id": "ZNe_q10gs562",
        "outputId": "3ef6dd69-3afb-4936-89e0-2aa68ade3370"
      },
      "execution_count": null,
      "outputs": [
        {
          "output_type": "stream",
          "name": "stdout",
          "text": [
            "Epoch 1/100\n",
            "157/157 [==============================] - 5s 34ms/step - loss: 2.0502 - accuracy: 0.2446 - val_loss: 2.1097 - val_accuracy: 0.2321\n",
            "Epoch 2/100\n",
            "157/157 [==============================] - 5s 31ms/step - loss: 2.0464 - accuracy: 0.2440 - val_loss: 2.1124 - val_accuracy: 0.2227\n",
            "Epoch 3/100\n",
            "157/157 [==============================] - 4s 27ms/step - loss: 2.0143 - accuracy: 0.2560 - val_loss: 2.0980 - val_accuracy: 0.2380\n",
            "Epoch 4/100\n",
            "157/157 [==============================] - 7s 43ms/step - loss: 2.0073 - accuracy: 0.2686 - val_loss: 2.1031 - val_accuracy: 0.2339\n",
            "Epoch 5/100\n",
            "157/157 [==============================] - 4s 27ms/step - loss: 1.9752 - accuracy: 0.2790 - val_loss: 2.0500 - val_accuracy: 0.2481\n",
            "Epoch 6/100\n",
            "157/157 [==============================] - 4s 27ms/step - loss: 1.9714 - accuracy: 0.2818 - val_loss: 2.0584 - val_accuracy: 0.2487\n",
            "Epoch 7/100\n",
            "157/157 [==============================] - 5s 30ms/step - loss: 1.9512 - accuracy: 0.2946 - val_loss: 2.0669 - val_accuracy: 0.2567\n",
            "Epoch 8/100\n",
            "157/157 [==============================] - 4s 28ms/step - loss: 1.9222 - accuracy: 0.2942 - val_loss: 2.0502 - val_accuracy: 0.2499\n",
            "Epoch 9/100\n",
            "157/157 [==============================] - 6s 39ms/step - loss: 1.9263 - accuracy: 0.2836 - val_loss: 2.0367 - val_accuracy: 0.2557\n",
            "Epoch 10/100\n",
            "157/157 [==============================] - 7s 43ms/step - loss: 1.9053 - accuracy: 0.2996 - val_loss: 2.0464 - val_accuracy: 0.2557\n",
            "Epoch 11/100\n",
            "157/157 [==============================] - 7s 44ms/step - loss: 1.8928 - accuracy: 0.3058 - val_loss: 2.0593 - val_accuracy: 0.2569\n",
            "Epoch 12/100\n",
            "157/157 [==============================] - 7s 43ms/step - loss: 1.9059 - accuracy: 0.3098 - val_loss: 1.9882 - val_accuracy: 0.2762\n",
            "Epoch 13/100\n",
            "157/157 [==============================] - 5s 31ms/step - loss: 1.8506 - accuracy: 0.3244 - val_loss: 2.0175 - val_accuracy: 0.2773\n",
            "Epoch 14/100\n",
            "157/157 [==============================] - 5s 30ms/step - loss: 1.8699 - accuracy: 0.3144 - val_loss: 2.0330 - val_accuracy: 0.2577\n",
            "Epoch 15/100\n",
            "157/157 [==============================] - 7s 43ms/step - loss: 1.8401 - accuracy: 0.3222 - val_loss: 1.9852 - val_accuracy: 0.2773\n",
            "Epoch 16/100\n",
            "157/157 [==============================] - 7s 43ms/step - loss: 1.8284 - accuracy: 0.3326 - val_loss: 1.9777 - val_accuracy: 0.2846\n",
            "Epoch 17/100\n",
            "157/157 [==============================] - 7s 44ms/step - loss: 1.7967 - accuracy: 0.3350 - val_loss: 2.0408 - val_accuracy: 0.2615\n",
            "Epoch 18/100\n",
            "157/157 [==============================] - 7s 43ms/step - loss: 1.8044 - accuracy: 0.3394 - val_loss: 1.9819 - val_accuracy: 0.2757\n",
            "Epoch 19/100\n",
            "157/157 [==============================] - 9s 54ms/step - loss: 1.7682 - accuracy: 0.3548 - val_loss: 1.9911 - val_accuracy: 0.2840\n",
            "Epoch 20/100\n",
            "157/157 [==============================] - 8s 50ms/step - loss: 1.7775 - accuracy: 0.3554 - val_loss: 1.9572 - val_accuracy: 0.3004\n",
            "Epoch 21/100\n",
            "157/157 [==============================] - 5s 33ms/step - loss: 1.7310 - accuracy: 0.3768 - val_loss: 1.9479 - val_accuracy: 0.3018\n",
            "Epoch 22/100\n",
            "157/157 [==============================] - 6s 38ms/step - loss: 1.7506 - accuracy: 0.3648 - val_loss: 2.0054 - val_accuracy: 0.2816\n",
            "Epoch 23/100\n",
            "157/157 [==============================] - 7s 43ms/step - loss: 1.7317 - accuracy: 0.3646 - val_loss: 1.9829 - val_accuracy: 0.2919\n",
            "Epoch 24/100\n",
            "157/157 [==============================] - 5s 30ms/step - loss: 1.6955 - accuracy: 0.3882 - val_loss: 1.9399 - val_accuracy: 0.3056\n",
            "Epoch 25/100\n",
            "157/157 [==============================] - 4s 27ms/step - loss: 1.6951 - accuracy: 0.3790 - val_loss: 2.0577 - val_accuracy: 0.2813\n",
            "Epoch 26/100\n",
            "157/157 [==============================] - 4s 27ms/step - loss: 1.7076 - accuracy: 0.3812 - val_loss: 2.0065 - val_accuracy: 0.2987\n",
            "Epoch 27/100\n",
            "157/157 [==============================] - 5s 32ms/step - loss: 1.6668 - accuracy: 0.3936 - val_loss: 1.9963 - val_accuracy: 0.3004\n",
            "Epoch 28/100\n",
            "157/157 [==============================] - 7s 44ms/step - loss: 1.6531 - accuracy: 0.3934 - val_loss: 1.9545 - val_accuracy: 0.3001\n",
            "Epoch 29/100\n",
            "157/157 [==============================] - 5s 34ms/step - loss: 1.6752 - accuracy: 0.3894 - val_loss: 1.9696 - val_accuracy: 0.3048\n",
            "Epoch 30/100\n",
            "157/157 [==============================] - 5s 31ms/step - loss: 1.6424 - accuracy: 0.3948 - val_loss: 1.9707 - val_accuracy: 0.2959\n",
            "Epoch 31/100\n",
            "157/157 [==============================] - 5s 30ms/step - loss: 1.6428 - accuracy: 0.3970 - val_loss: 2.0337 - val_accuracy: 0.2952\n",
            "Epoch 32/100\n",
            "157/157 [==============================] - 5s 29ms/step - loss: 1.6024 - accuracy: 0.4138 - val_loss: 2.0135 - val_accuracy: 0.3080\n",
            "Epoch 33/100\n",
            "157/157 [==============================] - 4s 27ms/step - loss: 1.5735 - accuracy: 0.4266 - val_loss: 1.9963 - val_accuracy: 0.3029\n",
            "Epoch 34/100\n",
            "157/157 [==============================] - 7s 43ms/step - loss: 1.5778 - accuracy: 0.4210 - val_loss: 2.0075 - val_accuracy: 0.3163\n",
            "Epoch 35/100\n",
            "157/157 [==============================] - 4s 27ms/step - loss: 1.5527 - accuracy: 0.4354 - val_loss: 2.0009 - val_accuracy: 0.3072\n",
            "Epoch 36/100\n",
            "157/157 [==============================] - 5s 31ms/step - loss: 1.5419 - accuracy: 0.4394 - val_loss: 1.9898 - val_accuracy: 0.3160\n",
            "Epoch 37/100\n",
            "157/157 [==============================] - 7s 48ms/step - loss: 1.5368 - accuracy: 0.4418 - val_loss: 2.0093 - val_accuracy: 0.3062\n",
            "Epoch 38/100\n",
            "157/157 [==============================] - 7s 44ms/step - loss: 1.4991 - accuracy: 0.4582 - val_loss: 2.0452 - val_accuracy: 0.3050\n",
            "Epoch 39/100\n",
            "157/157 [==============================] - 4s 27ms/step - loss: 1.5146 - accuracy: 0.4514 - val_loss: 1.9967 - val_accuracy: 0.3195\n",
            "Epoch 40/100\n",
            "157/157 [==============================] - 7s 43ms/step - loss: 1.4861 - accuracy: 0.4558 - val_loss: 2.0115 - val_accuracy: 0.3112\n",
            "Epoch 41/100\n",
            "157/157 [==============================] - 4s 27ms/step - loss: 1.4765 - accuracy: 0.4640 - val_loss: 2.0487 - val_accuracy: 0.3182\n",
            "Epoch 42/100\n",
            "157/157 [==============================] - 4s 27ms/step - loss: 1.4576 - accuracy: 0.4724 - val_loss: 2.0893 - val_accuracy: 0.3112\n",
            "Epoch 43/100\n",
            "157/157 [==============================] - 5s 31ms/step - loss: 1.4475 - accuracy: 0.4798 - val_loss: 2.0447 - val_accuracy: 0.3095\n",
            "Epoch 44/100\n",
            "157/157 [==============================] - 4s 27ms/step - loss: 1.4214 - accuracy: 0.4836 - val_loss: 2.0474 - val_accuracy: 0.3108\n",
            "Epoch 45/100\n",
            "157/157 [==============================] - 7s 45ms/step - loss: 1.4203 - accuracy: 0.4854 - val_loss: 2.0219 - val_accuracy: 0.3260\n",
            "Epoch 46/100\n",
            "157/157 [==============================] - 7s 43ms/step - loss: 1.3876 - accuracy: 0.5004 - val_loss: 2.0779 - val_accuracy: 0.3123\n",
            "Epoch 47/100\n",
            "157/157 [==============================] - 5s 31ms/step - loss: 1.3721 - accuracy: 0.5060 - val_loss: 2.0599 - val_accuracy: 0.3215\n",
            "Epoch 48/100\n",
            "157/157 [==============================] - 7s 43ms/step - loss: 1.3733 - accuracy: 0.5028 - val_loss: 1.9961 - val_accuracy: 0.3276\n",
            "Epoch 49/100\n",
            "157/157 [==============================] - 5s 32ms/step - loss: 1.3393 - accuracy: 0.5176 - val_loss: 2.0488 - val_accuracy: 0.3279\n",
            "Epoch 50/100\n",
            "157/157 [==============================] - 4s 27ms/step - loss: 1.3040 - accuracy: 0.5322 - val_loss: 2.0856 - val_accuracy: 0.3295\n",
            "Epoch 51/100\n",
            "157/157 [==============================] - 4s 27ms/step - loss: 1.2820 - accuracy: 0.5336 - val_loss: 2.0781 - val_accuracy: 0.3352\n",
            "Epoch 52/100\n",
            "157/157 [==============================] - 7s 44ms/step - loss: 1.2915 - accuracy: 0.5328 - val_loss: 2.1519 - val_accuracy: 0.3187\n",
            "Epoch 53/100\n",
            "157/157 [==============================] - 4s 27ms/step - loss: 1.2937 - accuracy: 0.5288 - val_loss: 2.0863 - val_accuracy: 0.3313\n",
            "Epoch 54/100\n",
            "157/157 [==============================] - 5s 32ms/step - loss: 1.2635 - accuracy: 0.5420 - val_loss: 2.1159 - val_accuracy: 0.3254\n",
            "Epoch 55/100\n",
            "157/157 [==============================] - 4s 27ms/step - loss: 1.2409 - accuracy: 0.5502 - val_loss: 2.2254 - val_accuracy: 0.3185\n",
            "Epoch 56/100\n",
            "157/157 [==============================] - 7s 44ms/step - loss: 1.2212 - accuracy: 0.5590 - val_loss: 2.1317 - val_accuracy: 0.3241\n",
            "Epoch 57/100\n",
            "157/157 [==============================] - 4s 27ms/step - loss: 1.2163 - accuracy: 0.5588 - val_loss: 2.1931 - val_accuracy: 0.3135\n",
            "Epoch 58/100\n",
            "157/157 [==============================] - 4s 27ms/step - loss: 1.1946 - accuracy: 0.5674 - val_loss: 2.1465 - val_accuracy: 0.3220\n",
            "Epoch 59/100\n",
            "157/157 [==============================] - 5s 30ms/step - loss: 1.1844 - accuracy: 0.5728 - val_loss: 2.1437 - val_accuracy: 0.3294\n",
            "Epoch 60/100\n",
            "157/157 [==============================] - 4s 27ms/step - loss: 1.1470 - accuracy: 0.5848 - val_loss: 2.2015 - val_accuracy: 0.3245\n",
            "Epoch 61/100\n",
            "157/157 [==============================] - 4s 27ms/step - loss: 1.1527 - accuracy: 0.5878 - val_loss: 2.1908 - val_accuracy: 0.3316\n",
            "Epoch 62/100\n",
            "157/157 [==============================] - 4s 29ms/step - loss: 1.1260 - accuracy: 0.5982 - val_loss: 2.1983 - val_accuracy: 0.3315\n",
            "Epoch 63/100\n",
            "157/157 [==============================] - 4s 27ms/step - loss: 1.0979 - accuracy: 0.6082 - val_loss: 2.2609 - val_accuracy: 0.3234\n",
            "Epoch 64/100\n",
            "157/157 [==============================] - 7s 43ms/step - loss: 1.1002 - accuracy: 0.6078 - val_loss: 2.2613 - val_accuracy: 0.3283\n",
            "Epoch 65/100\n",
            "157/157 [==============================] - 4s 27ms/step - loss: 1.0925 - accuracy: 0.6098 - val_loss: 2.3047 - val_accuracy: 0.3229\n",
            "Epoch 66/100\n",
            "157/157 [==============================] - 7s 44ms/step - loss: 1.0725 - accuracy: 0.6170 - val_loss: 2.2905 - val_accuracy: 0.3286\n",
            "Epoch 67/100\n",
            "157/157 [==============================] - 4s 27ms/step - loss: 1.0612 - accuracy: 0.6086 - val_loss: 2.2803 - val_accuracy: 0.3269\n",
            "Epoch 68/100\n",
            "157/157 [==============================] - 4s 27ms/step - loss: 1.0300 - accuracy: 0.6270 - val_loss: 2.4114 - val_accuracy: 0.3243\n",
            "Epoch 69/100\n",
            "157/157 [==============================] - 7s 45ms/step - loss: 1.0247 - accuracy: 0.6312 - val_loss: 2.3765 - val_accuracy: 0.3249\n",
            "Epoch 70/100\n",
            "157/157 [==============================] - 4s 27ms/step - loss: 1.0126 - accuracy: 0.6366 - val_loss: 2.3821 - val_accuracy: 0.3227\n",
            "Epoch 71/100\n",
            "157/157 [==============================] - 5s 31ms/step - loss: 0.9909 - accuracy: 0.6492 - val_loss: 2.4348 - val_accuracy: 0.3207\n",
            "Epoch 72/100\n",
            "157/157 [==============================] - 4s 27ms/step - loss: 0.9705 - accuracy: 0.6552 - val_loss: 2.4781 - val_accuracy: 0.3163\n",
            "Epoch 73/100\n",
            "157/157 [==============================] - 4s 27ms/step - loss: 0.9656 - accuracy: 0.6492 - val_loss: 2.4627 - val_accuracy: 0.3258\n",
            "Epoch 74/100\n",
            "157/157 [==============================] - 5s 30ms/step - loss: 0.9684 - accuracy: 0.6560 - val_loss: 2.5021 - val_accuracy: 0.3263\n",
            "Epoch 75/100\n",
            "157/157 [==============================] - 7s 43ms/step - loss: 0.9175 - accuracy: 0.6748 - val_loss: 2.5345 - val_accuracy: 0.3120\n",
            "Epoch 76/100\n",
            "157/157 [==============================] - 5s 30ms/step - loss: 0.9313 - accuracy: 0.6676 - val_loss: 2.5663 - val_accuracy: 0.3279\n",
            "Epoch 77/100\n",
            "157/157 [==============================] - 4s 27ms/step - loss: 0.9361 - accuracy: 0.6604 - val_loss: 2.5810 - val_accuracy: 0.3143\n",
            "Epoch 78/100\n",
            "157/157 [==============================] - 4s 27ms/step - loss: 0.8786 - accuracy: 0.6912 - val_loss: 2.6098 - val_accuracy: 0.3186\n",
            "Epoch 79/100\n",
            "157/157 [==============================] - 5s 29ms/step - loss: 0.8813 - accuracy: 0.6878 - val_loss: 2.5782 - val_accuracy: 0.3154\n",
            "Epoch 80/100\n",
            "157/157 [==============================] - 4s 27ms/step - loss: 0.8699 - accuracy: 0.6904 - val_loss: 2.7610 - val_accuracy: 0.3100\n",
            "Epoch 81/100\n",
            "157/157 [==============================] - 4s 28ms/step - loss: 0.8742 - accuracy: 0.6844 - val_loss: 2.5906 - val_accuracy: 0.3243\n",
            "Epoch 82/100\n",
            "157/157 [==============================] - 4s 28ms/step - loss: 0.8323 - accuracy: 0.7126 - val_loss: 2.6334 - val_accuracy: 0.3186\n",
            "Epoch 83/100\n",
            "157/157 [==============================] - 4s 27ms/step - loss: 0.8038 - accuracy: 0.7130 - val_loss: 2.6930 - val_accuracy: 0.3229\n",
            "Epoch 84/100\n",
            "157/157 [==============================] - 5s 31ms/step - loss: 0.8115 - accuracy: 0.7162 - val_loss: 2.7686 - val_accuracy: 0.3196\n",
            "Epoch 85/100\n",
            "157/157 [==============================] - 5s 29ms/step - loss: 0.8267 - accuracy: 0.7068 - val_loss: 2.7012 - val_accuracy: 0.3224\n",
            "Epoch 86/100\n",
            "157/157 [==============================] - 4s 27ms/step - loss: 0.8062 - accuracy: 0.7108 - val_loss: 2.7108 - val_accuracy: 0.3241\n",
            "Epoch 87/100\n",
            "157/157 [==============================] - 5s 33ms/step - loss: 0.7744 - accuracy: 0.7240 - val_loss: 2.7648 - val_accuracy: 0.3227\n",
            "Epoch 88/100\n",
            "157/157 [==============================] - 7s 45ms/step - loss: 0.7898 - accuracy: 0.7158 - val_loss: 2.7626 - val_accuracy: 0.3208\n",
            "Epoch 89/100\n",
            "157/157 [==============================] - 7s 44ms/step - loss: 0.7706 - accuracy: 0.7334 - val_loss: 2.7403 - val_accuracy: 0.3250\n",
            "Epoch 90/100\n",
            "157/157 [==============================] - 7s 44ms/step - loss: 0.7525 - accuracy: 0.7420 - val_loss: 2.8938 - val_accuracy: 0.3134\n",
            "Epoch 91/100\n",
            "157/157 [==============================] - 5s 30ms/step - loss: 0.7713 - accuracy: 0.7274 - val_loss: 2.8346 - val_accuracy: 0.3261\n",
            "Epoch 92/100\n",
            "157/157 [==============================] - 5s 31ms/step - loss: 0.7215 - accuracy: 0.7446 - val_loss: 2.9576 - val_accuracy: 0.3153\n",
            "Epoch 93/100\n",
            "157/157 [==============================] - 7s 44ms/step - loss: 0.7206 - accuracy: 0.7438 - val_loss: 2.9491 - val_accuracy: 0.3166\n",
            "Epoch 94/100\n",
            "157/157 [==============================] - 4s 27ms/step - loss: 0.6851 - accuracy: 0.7624 - val_loss: 3.0284 - val_accuracy: 0.3103\n",
            "Epoch 95/100\n",
            "157/157 [==============================] - 7s 43ms/step - loss: 0.7171 - accuracy: 0.7508 - val_loss: 3.0117 - val_accuracy: 0.3169\n",
            "Epoch 96/100\n",
            "157/157 [==============================] - 4s 27ms/step - loss: 0.6978 - accuracy: 0.7512 - val_loss: 3.0670 - val_accuracy: 0.3157\n",
            "Epoch 97/100\n",
            "157/157 [==============================] - 4s 27ms/step - loss: 0.6564 - accuracy: 0.7624 - val_loss: 2.9937 - val_accuracy: 0.3170\n",
            "Epoch 98/100\n",
            "157/157 [==============================] - 7s 45ms/step - loss: 0.6531 - accuracy: 0.7682 - val_loss: 3.0536 - val_accuracy: 0.3219\n",
            "Epoch 99/100\n",
            "157/157 [==============================] - 4s 27ms/step - loss: 0.6752 - accuracy: 0.7626 - val_loss: 3.2207 - val_accuracy: 0.3199\n",
            "Epoch 100/100\n",
            "157/157 [==============================] - 5s 31ms/step - loss: 0.6762 - accuracy: 0.7568 - val_loss: 3.1520 - val_accuracy: 0.3160\n"
          ]
        }
      ]
    },
    {
      "cell_type": "code",
      "source": [
        "model.evaluate(X_train, y_train)"
      ],
      "metadata": {
        "colab": {
          "base_uri": "https://localhost:8080/"
        },
        "id": "gJ1um8eBvgAf",
        "outputId": "c5f41950-118e-410f-fed3-194643aa2f9d"
      },
      "execution_count": null,
      "outputs": [
        {
          "output_type": "stream",
          "name": "stdout",
          "text": [
            "1250/1250 [==============================] - 4s 3ms/step - loss: 2.8406 - accuracy: 0.3720\n"
          ]
        },
        {
          "output_type": "execute_result",
          "data": {
            "text/plain": [
              "[2.8406031131744385, 0.3719500005245209]"
            ]
          },
          "metadata": {},
          "execution_count": 9
        }
      ]
    },
    {
      "cell_type": "code",
      "source": [
        "model.evaluate(X_test, y_test)"
      ],
      "metadata": {
        "colab": {
          "base_uri": "https://localhost:8080/"
        },
        "id": "RdrSJgP4tXwi",
        "outputId": "8f4e0e36-0e84-47ef-d544-e98e4dae7801"
      },
      "execution_count": null,
      "outputs": [
        {
          "output_type": "stream",
          "name": "stdout",
          "text": [
            "313/313 [==============================] - 1s 3ms/step - loss: 6.4074 - accuracy: 0.1012\n"
          ]
        },
        {
          "output_type": "execute_result",
          "data": {
            "text/plain": [
              "[6.407403945922852, 0.10119999945163727]"
            ]
          },
          "metadata": {},
          "execution_count": 10
        }
      ]
    },
    {
      "cell_type": "code",
      "source": [
        "tf.keras.backend.clear_session()\n",
        "tf.random.set_seed(42)"
      ],
      "metadata": {
        "id": "zV18M4fUL1em"
      },
      "execution_count": null,
      "outputs": []
    },
    {
      "cell_type": "code",
      "source": [
        "model = Sequential()\n",
        "model.add(Flatten(input_shape=[32,32,3]))\n",
        "model.add(tf.keras.layers.BatchNormalization())\n",
        "for _ in range(20):\n",
        "  model.add(Dense(100, activation='relu', kernel_initializer='he_normal'))\n",
        "model.add(Dense(10, activation='softmax'))\n"
      ],
      "metadata": {
        "id": "7WVsN0kbvmlG"
      },
      "execution_count": null,
      "outputs": []
    },
    {
      "cell_type": "code",
      "source": [
        "optimizer = tf.keras.optimizers.Nadam(learning_rate=5e-5)\n",
        "model.compile(loss='sparse_categorical_crossentropy', optimizer=optimizer, metrics=['accuracy'])\n",
        "model.fit(X_train[:5000], y_train[:5000],epochs=10, validation_data=(X_train, y_train))"
      ],
      "metadata": {
        "colab": {
          "base_uri": "https://localhost:8080/"
        },
        "id": "03LUjMVOKPnt",
        "outputId": "c7fe6a0c-8d89-4aec-868b-a711c00e5314"
      },
      "execution_count": null,
      "outputs": [
        {
          "output_type": "stream",
          "name": "stdout",
          "text": [
            "Epoch 1/10\n",
            "157/157 [==============================] - 15s 34ms/step - loss: 2.3485 - accuracy: 0.1114 - val_loss: 2.2935 - val_accuracy: 0.1126\n",
            "Epoch 2/10\n",
            "157/157 [==============================] - 7s 45ms/step - loss: 2.2547 - accuracy: 0.1422 - val_loss: 2.2193 - val_accuracy: 0.1682\n",
            "Epoch 3/10\n",
            "157/157 [==============================] - 7s 44ms/step - loss: 2.1546 - accuracy: 0.2130 - val_loss: 2.1147 - val_accuracy: 0.2258\n",
            "Epoch 4/10\n",
            "157/157 [==============================] - 7s 45ms/step - loss: 2.0281 - accuracy: 0.2596 - val_loss: 1.9960 - val_accuracy: 0.2639\n",
            "Epoch 5/10\n",
            "157/157 [==============================] - 7s 44ms/step - loss: 1.9433 - accuracy: 0.2816 - val_loss: 1.9487 - val_accuracy: 0.2812\n",
            "Epoch 6/10\n",
            "157/157 [==============================] - 5s 30ms/step - loss: 1.8719 - accuracy: 0.3106 - val_loss: 1.9179 - val_accuracy: 0.2843\n",
            "Epoch 7/10\n",
            "157/157 [==============================] - 5s 31ms/step - loss: 1.8128 - accuracy: 0.3280 - val_loss: 1.8818 - val_accuracy: 0.3101\n",
            "Epoch 8/10\n",
            "157/157 [==============================] - 5s 30ms/step - loss: 1.7603 - accuracy: 0.3498 - val_loss: 1.8813 - val_accuracy: 0.3132\n",
            "Epoch 9/10\n",
            "157/157 [==============================] - 7s 44ms/step - loss: 1.7244 - accuracy: 0.3700 - val_loss: 1.8799 - val_accuracy: 0.3227\n",
            "Epoch 10/10\n",
            "157/157 [==============================] - 5s 30ms/step - loss: 1.6827 - accuracy: 0.3846 - val_loss: 1.8487 - val_accuracy: 0.3302\n"
          ]
        },
        {
          "output_type": "execute_result",
          "data": {
            "text/plain": [
              "<keras.src.callbacks.History at 0x78d6a0543100>"
            ]
          },
          "metadata": {},
          "execution_count": 13
        }
      ]
    },
    {
      "cell_type": "code",
      "source": [
        "early_stopping = EarlyStopping(patience= 5,  monitor='loss')\n",
        "model.fit(X_train[:5000], y_train[:5000], epochs=100, callbacks=[early_stopping], validation_data=(X_train, y_train))"
      ],
      "metadata": {
        "id": "oPrMUbD3Kj6P",
        "colab": {
          "base_uri": "https://localhost:8080/"
        },
        "outputId": "38bda27b-c8ef-49b8-c467-681f57322d0a"
      },
      "execution_count": null,
      "outputs": [
        {
          "output_type": "stream",
          "name": "stdout",
          "text": [
            "Epoch 1/100\n",
            "157/157 [==============================] - 6s 37ms/step - loss: 1.6388 - accuracy: 0.3960 - val_loss: 1.9042 - val_accuracy: 0.3169\n",
            "Epoch 2/100\n",
            "157/157 [==============================] - 7s 44ms/step - loss: 1.6115 - accuracy: 0.4092 - val_loss: 1.8927 - val_accuracy: 0.3232\n",
            "Epoch 3/100\n",
            "157/157 [==============================] - 7s 45ms/step - loss: 1.5679 - accuracy: 0.4264 - val_loss: 1.9033 - val_accuracy: 0.3265\n",
            "Epoch 4/100\n",
            "157/157 [==============================] - 4s 28ms/step - loss: 1.5196 - accuracy: 0.4446 - val_loss: 1.9378 - val_accuracy: 0.3323\n",
            "Epoch 5/100\n",
            "157/157 [==============================] - 5s 32ms/step - loss: 1.4877 - accuracy: 0.4568 - val_loss: 1.9357 - val_accuracy: 0.3295\n",
            "Epoch 6/100\n",
            "157/157 [==============================] - 4s 29ms/step - loss: 1.4611 - accuracy: 0.4708 - val_loss: 1.9475 - val_accuracy: 0.3289\n",
            "Epoch 7/100\n",
            "157/157 [==============================] - 5s 30ms/step - loss: 1.4135 - accuracy: 0.4890 - val_loss: 1.9510 - val_accuracy: 0.3310\n",
            "Epoch 8/100\n",
            "157/157 [==============================] - 5s 30ms/step - loss: 1.3726 - accuracy: 0.5074 - val_loss: 1.9871 - val_accuracy: 0.3281\n",
            "Epoch 9/100\n",
            "157/157 [==============================] - 4s 28ms/step - loss: 1.3495 - accuracy: 0.5124 - val_loss: 2.0081 - val_accuracy: 0.3293\n",
            "Epoch 10/100\n",
            "157/157 [==============================] - 5s 33ms/step - loss: 1.3271 - accuracy: 0.5208 - val_loss: 2.0187 - val_accuracy: 0.3368\n",
            "Epoch 11/100\n",
            "157/157 [==============================] - 4s 28ms/step - loss: 1.2992 - accuracy: 0.5334 - val_loss: 2.0113 - val_accuracy: 0.3351\n",
            "Epoch 12/100\n",
            "157/157 [==============================] - 7s 44ms/step - loss: 1.2600 - accuracy: 0.5494 - val_loss: 2.0944 - val_accuracy: 0.3306\n",
            "Epoch 13/100\n",
            "157/157 [==============================] - 4s 28ms/step - loss: 1.2545 - accuracy: 0.5338 - val_loss: 2.0576 - val_accuracy: 0.3335\n",
            "Epoch 14/100\n",
            "157/157 [==============================] - 7s 44ms/step - loss: 1.2091 - accuracy: 0.5622 - val_loss: 2.1123 - val_accuracy: 0.3341\n",
            "Epoch 15/100\n",
            "157/157 [==============================] - 4s 29ms/step - loss: 1.1788 - accuracy: 0.5750 - val_loss: 2.1301 - val_accuracy: 0.3316\n",
            "Epoch 16/100\n",
            "157/157 [==============================] - 4s 28ms/step - loss: 1.1671 - accuracy: 0.5794 - val_loss: 2.1519 - val_accuracy: 0.3362\n",
            "Epoch 17/100\n",
            "157/157 [==============================] - 7s 45ms/step - loss: 1.1297 - accuracy: 0.5960 - val_loss: 2.2221 - val_accuracy: 0.3352\n",
            "Epoch 18/100\n",
            "157/157 [==============================] - 4s 28ms/step - loss: 1.1089 - accuracy: 0.5960 - val_loss: 2.1984 - val_accuracy: 0.3320\n",
            "Epoch 19/100\n",
            "157/157 [==============================] - 7s 45ms/step - loss: 1.0843 - accuracy: 0.6034 - val_loss: 2.1826 - val_accuracy: 0.3368\n",
            "Epoch 20/100\n",
            "157/157 [==============================] - 7s 45ms/step - loss: 1.0610 - accuracy: 0.6152 - val_loss: 2.2891 - val_accuracy: 0.3283\n",
            "Epoch 21/100\n",
            "157/157 [==============================] - 5s 29ms/step - loss: 1.0239 - accuracy: 0.6236 - val_loss: 2.2885 - val_accuracy: 0.3326\n",
            "Epoch 22/100\n",
            "157/157 [==============================] - 4s 28ms/step - loss: 1.0048 - accuracy: 0.6368 - val_loss: 2.3345 - val_accuracy: 0.3280\n",
            "Epoch 23/100\n",
            "157/157 [==============================] - 7s 45ms/step - loss: 1.0057 - accuracy: 0.6376 - val_loss: 2.3103 - val_accuracy: 0.3369\n",
            "Epoch 24/100\n",
            "157/157 [==============================] - 7s 46ms/step - loss: 0.9852 - accuracy: 0.6474 - val_loss: 2.3202 - val_accuracy: 0.3389\n",
            "Epoch 25/100\n",
            "157/157 [==============================] - 8s 54ms/step - loss: 0.9546 - accuracy: 0.6546 - val_loss: 2.3402 - val_accuracy: 0.3362\n",
            "Epoch 26/100\n",
            "157/157 [==============================] - 5s 32ms/step - loss: 0.9234 - accuracy: 0.6638 - val_loss: 2.4240 - val_accuracy: 0.3359\n",
            "Epoch 27/100\n",
            "157/157 [==============================] - 5s 30ms/step - loss: 0.9261 - accuracy: 0.6674 - val_loss: 2.3681 - val_accuracy: 0.3391\n",
            "Epoch 28/100\n",
            "157/157 [==============================] - 4s 28ms/step - loss: 0.8663 - accuracy: 0.6894 - val_loss: 2.4421 - val_accuracy: 0.3344\n",
            "Epoch 29/100\n",
            "157/157 [==============================] - 6s 35ms/step - loss: 0.9107 - accuracy: 0.6776 - val_loss: 2.4052 - val_accuracy: 0.3317\n",
            "Epoch 30/100\n",
            "157/157 [==============================] - 5s 29ms/step - loss: 0.8476 - accuracy: 0.6998 - val_loss: 2.5386 - val_accuracy: 0.3371\n",
            "Epoch 31/100\n",
            "157/157 [==============================] - 4s 28ms/step - loss: 0.8468 - accuracy: 0.6946 - val_loss: 2.4963 - val_accuracy: 0.3303\n",
            "Epoch 32/100\n",
            "157/157 [==============================] - 8s 49ms/step - loss: 0.8365 - accuracy: 0.7026 - val_loss: 2.5110 - val_accuracy: 0.3339\n",
            "Epoch 33/100\n",
            "157/157 [==============================] - 7s 46ms/step - loss: 0.8422 - accuracy: 0.7026 - val_loss: 2.5294 - val_accuracy: 0.3331\n",
            "Epoch 34/100\n",
            "157/157 [==============================] - 7s 44ms/step - loss: 0.7994 - accuracy: 0.7166 - val_loss: 2.5174 - val_accuracy: 0.3365\n",
            "Epoch 35/100\n",
            "157/157 [==============================] - 5s 34ms/step - loss: 0.7993 - accuracy: 0.7150 - val_loss: 2.5519 - val_accuracy: 0.3368\n",
            "Epoch 36/100\n",
            "157/157 [==============================] - 8s 48ms/step - loss: 0.7830 - accuracy: 0.7216 - val_loss: 2.5943 - val_accuracy: 0.3316\n",
            "Epoch 37/100\n",
            "157/157 [==============================] - 7s 45ms/step - loss: 0.7611 - accuracy: 0.7268 - val_loss: 2.6555 - val_accuracy: 0.3319\n",
            "Epoch 38/100\n",
            "157/157 [==============================] - 5s 31ms/step - loss: 0.7362 - accuracy: 0.7390 - val_loss: 2.7278 - val_accuracy: 0.3321\n",
            "Epoch 39/100\n",
            "157/157 [==============================] - 7s 44ms/step - loss: 0.7510 - accuracy: 0.7304 - val_loss: 2.6982 - val_accuracy: 0.3394\n",
            "Epoch 40/100\n",
            "157/157 [==============================] - 4s 28ms/step - loss: 0.7266 - accuracy: 0.7444 - val_loss: 2.6987 - val_accuracy: 0.3296\n",
            "Epoch 41/100\n",
            "157/157 [==============================] - 7s 44ms/step - loss: 0.7472 - accuracy: 0.7360 - val_loss: 2.8162 - val_accuracy: 0.3310\n",
            "Epoch 42/100\n",
            "157/157 [==============================] - 7s 44ms/step - loss: 0.6908 - accuracy: 0.7492 - val_loss: 2.7526 - val_accuracy: 0.3358\n",
            "Epoch 43/100\n",
            "157/157 [==============================] - 7s 47ms/step - loss: 0.6864 - accuracy: 0.7522 - val_loss: 2.7896 - val_accuracy: 0.3378\n",
            "Epoch 44/100\n",
            "157/157 [==============================] - 7s 44ms/step - loss: 0.6889 - accuracy: 0.7484 - val_loss: 2.8235 - val_accuracy: 0.3368\n",
            "Epoch 45/100\n",
            "157/157 [==============================] - 7s 45ms/step - loss: 0.6858 - accuracy: 0.7566 - val_loss: 2.8354 - val_accuracy: 0.3369\n",
            "Epoch 46/100\n",
            "157/157 [==============================] - 5s 33ms/step - loss: 0.6820 - accuracy: 0.7638 - val_loss: 2.8237 - val_accuracy: 0.3317\n",
            "Epoch 47/100\n",
            "157/157 [==============================] - 7s 45ms/step - loss: 0.6872 - accuracy: 0.7636 - val_loss: 2.8348 - val_accuracy: 0.3337\n",
            "Epoch 48/100\n",
            "157/157 [==============================] - 7s 44ms/step - loss: 0.6373 - accuracy: 0.7746 - val_loss: 2.8388 - val_accuracy: 0.3369\n",
            "Epoch 49/100\n",
            "157/157 [==============================] - 7s 44ms/step - loss: 0.6197 - accuracy: 0.7828 - val_loss: 2.9190 - val_accuracy: 0.3309\n",
            "Epoch 50/100\n",
            "157/157 [==============================] - 5s 33ms/step - loss: 0.6295 - accuracy: 0.7756 - val_loss: 2.8808 - val_accuracy: 0.3336\n",
            "Epoch 51/100\n",
            "157/157 [==============================] - 4s 28ms/step - loss: 0.6108 - accuracy: 0.7872 - val_loss: 2.9730 - val_accuracy: 0.3232\n",
            "Epoch 52/100\n",
            "157/157 [==============================] - 5s 30ms/step - loss: 0.5915 - accuracy: 0.7928 - val_loss: 3.0157 - val_accuracy: 0.3266\n",
            "Epoch 53/100\n",
            "157/157 [==============================] - 5s 30ms/step - loss: 0.5929 - accuracy: 0.7916 - val_loss: 3.0568 - val_accuracy: 0.3329\n",
            "Epoch 54/100\n",
            "157/157 [==============================] - 4s 29ms/step - loss: 0.5712 - accuracy: 0.7928 - val_loss: 2.9786 - val_accuracy: 0.3313\n",
            "Epoch 55/100\n",
            "157/157 [==============================] - 5s 33ms/step - loss: 0.5642 - accuracy: 0.8028 - val_loss: 3.1280 - val_accuracy: 0.3335\n",
            "Epoch 56/100\n",
            "157/157 [==============================] - 4s 28ms/step - loss: 0.5677 - accuracy: 0.8052 - val_loss: 3.0771 - val_accuracy: 0.3426\n",
            "Epoch 57/100\n",
            "157/157 [==============================] - 4s 29ms/step - loss: 0.5603 - accuracy: 0.8056 - val_loss: 3.0839 - val_accuracy: 0.3317\n",
            "Epoch 58/100\n",
            "157/157 [==============================] - 5s 31ms/step - loss: 0.5226 - accuracy: 0.8136 - val_loss: 3.1143 - val_accuracy: 0.3357\n",
            "Epoch 59/100\n",
            "157/157 [==============================] - 4s 28ms/step - loss: 0.5488 - accuracy: 0.8048 - val_loss: 3.1493 - val_accuracy: 0.3359\n",
            "Epoch 60/100\n",
            "157/157 [==============================] - 7s 44ms/step - loss: 0.5255 - accuracy: 0.8200 - val_loss: 3.1758 - val_accuracy: 0.3381\n",
            "Epoch 61/100\n",
            "157/157 [==============================] - 4s 28ms/step - loss: 0.5714 - accuracy: 0.7994 - val_loss: 3.0930 - val_accuracy: 0.3371\n",
            "Epoch 62/100\n",
            "157/157 [==============================] - 7s 44ms/step - loss: 0.5534 - accuracy: 0.8094 - val_loss: 3.0753 - val_accuracy: 0.3371\n",
            "Epoch 63/100\n",
            "157/157 [==============================] - 7s 44ms/step - loss: 0.4960 - accuracy: 0.8258 - val_loss: 3.1690 - val_accuracy: 0.3359\n",
            "Epoch 64/100\n",
            "157/157 [==============================] - 7s 44ms/step - loss: 0.5036 - accuracy: 0.8266 - val_loss: 3.1790 - val_accuracy: 0.3329\n",
            "Epoch 65/100\n",
            "157/157 [==============================] - 7s 44ms/step - loss: 0.4935 - accuracy: 0.8248 - val_loss: 3.2483 - val_accuracy: 0.3403\n",
            "Epoch 66/100\n",
            "157/157 [==============================] - 5s 30ms/step - loss: 0.5156 - accuracy: 0.8228 - val_loss: 3.1753 - val_accuracy: 0.3383\n",
            "Epoch 67/100\n",
            "157/157 [==============================] - 7s 44ms/step - loss: 0.5010 - accuracy: 0.8282 - val_loss: 3.1800 - val_accuracy: 0.3381\n",
            "Epoch 68/100\n",
            "157/157 [==============================] - 7s 46ms/step - loss: 0.4984 - accuracy: 0.8296 - val_loss: 3.1940 - val_accuracy: 0.3343\n",
            "Epoch 69/100\n",
            "157/157 [==============================] - 7s 44ms/step - loss: 0.4647 - accuracy: 0.8408 - val_loss: 3.2506 - val_accuracy: 0.3407\n",
            "Epoch 70/100\n",
            "157/157 [==============================] - 5s 29ms/step - loss: 0.4765 - accuracy: 0.8330 - val_loss: 3.2288 - val_accuracy: 0.3331\n",
            "Epoch 71/100\n",
            "157/157 [==============================] - 4s 28ms/step - loss: 0.5120 - accuracy: 0.8204 - val_loss: 3.1704 - val_accuracy: 0.3301\n",
            "Epoch 72/100\n",
            "157/157 [==============================] - 5s 32ms/step - loss: 0.4536 - accuracy: 0.8428 - val_loss: 3.3399 - val_accuracy: 0.3302\n",
            "Epoch 73/100\n",
            "157/157 [==============================] - 4s 28ms/step - loss: 0.4461 - accuracy: 0.8480 - val_loss: 3.2887 - val_accuracy: 0.3377\n",
            "Epoch 74/100\n",
            "157/157 [==============================] - 7s 44ms/step - loss: 0.4147 - accuracy: 0.8574 - val_loss: 3.4101 - val_accuracy: 0.3321\n",
            "Epoch 75/100\n",
            "157/157 [==============================] - 4s 28ms/step - loss: 0.4498 - accuracy: 0.8470 - val_loss: 3.3771 - val_accuracy: 0.3381\n",
            "Epoch 76/100\n",
            "157/157 [==============================] - 7s 44ms/step - loss: 0.4329 - accuracy: 0.8528 - val_loss: 3.4163 - val_accuracy: 0.3391\n",
            "Epoch 77/100\n",
            "157/157 [==============================] - 4s 28ms/step - loss: 0.4323 - accuracy: 0.8490 - val_loss: 3.3968 - val_accuracy: 0.3330\n",
            "Epoch 78/100\n",
            "157/157 [==============================] - 7s 44ms/step - loss: 0.4068 - accuracy: 0.8588 - val_loss: 3.4051 - val_accuracy: 0.3389\n",
            "Epoch 79/100\n",
            "157/157 [==============================] - 4s 28ms/step - loss: 0.4150 - accuracy: 0.8550 - val_loss: 3.4711 - val_accuracy: 0.3370\n",
            "Epoch 80/100\n",
            "157/157 [==============================] - 4s 28ms/step - loss: 0.4319 - accuracy: 0.8570 - val_loss: 3.4459 - val_accuracy: 0.3323\n",
            "Epoch 81/100\n",
            "157/157 [==============================] - 5s 30ms/step - loss: 0.4116 - accuracy: 0.8580 - val_loss: 3.5093 - val_accuracy: 0.3349\n",
            "Epoch 82/100\n",
            "157/157 [==============================] - 7s 44ms/step - loss: 0.3967 - accuracy: 0.8658 - val_loss: 3.5158 - val_accuracy: 0.3353\n",
            "Epoch 83/100\n",
            "157/157 [==============================] - 7s 45ms/step - loss: 0.4131 - accuracy: 0.8608 - val_loss: 3.4784 - val_accuracy: 0.3386\n",
            "Epoch 84/100\n",
            "157/157 [==============================] - 5s 29ms/step - loss: 0.3733 - accuracy: 0.8698 - val_loss: 3.5530 - val_accuracy: 0.3378\n",
            "Epoch 85/100\n",
            "157/157 [==============================] - 7s 44ms/step - loss: 0.3908 - accuracy: 0.8662 - val_loss: 3.5507 - val_accuracy: 0.3337\n",
            "Epoch 86/100\n",
            "157/157 [==============================] - 4s 28ms/step - loss: 0.3602 - accuracy: 0.8752 - val_loss: 3.6408 - val_accuracy: 0.3336\n",
            "Epoch 87/100\n",
            "157/157 [==============================] - 5s 32ms/step - loss: 0.4166 - accuracy: 0.8600 - val_loss: 3.5979 - val_accuracy: 0.3343\n",
            "Epoch 88/100\n",
            "157/157 [==============================] - 4s 28ms/step - loss: 0.4168 - accuracy: 0.8556 - val_loss: 3.5573 - val_accuracy: 0.3328\n",
            "Epoch 89/100\n",
            "157/157 [==============================] - 7s 44ms/step - loss: 0.3852 - accuracy: 0.8652 - val_loss: 3.5800 - val_accuracy: 0.3376\n",
            "Epoch 90/100\n",
            "157/157 [==============================] - 4s 28ms/step - loss: 0.3681 - accuracy: 0.8788 - val_loss: 3.5623 - val_accuracy: 0.3381\n",
            "Epoch 91/100\n",
            "157/157 [==============================] - 4s 28ms/step - loss: 0.3645 - accuracy: 0.8756 - val_loss: 3.5490 - val_accuracy: 0.3437\n"
          ]
        },
        {
          "output_type": "execute_result",
          "data": {
            "text/plain": [
              "<keras.src.callbacks.History at 0x78d6a04538e0>"
            ]
          },
          "metadata": {},
          "execution_count": 14
        }
      ]
    },
    {
      "cell_type": "code",
      "source": [
        "model.evaluate(X_train,y_train)"
      ],
      "metadata": {
        "colab": {
          "base_uri": "https://localhost:8080/"
        },
        "id": "fNgEJ1tPdcWB",
        "outputId": "e9b4fe13-57df-458c-bf74-5c0c2842cb7c"
      },
      "execution_count": null,
      "outputs": [
        {
          "output_type": "stream",
          "name": "stdout",
          "text": [
            "1250/1250 [==============================] - 4s 3ms/step - loss: 3.7793 - accuracy: 0.4290\n"
          ]
        },
        {
          "output_type": "execute_result",
          "data": {
            "text/plain": [
              "[3.7793116569519043, 0.4290499985218048]"
            ]
          },
          "metadata": {},
          "execution_count": 30
        }
      ]
    },
    {
      "cell_type": "code",
      "source": [
        "model.evaluate(X_test,y_test)"
      ],
      "metadata": {
        "colab": {
          "base_uri": "https://localhost:8080/"
        },
        "id": "LFqgl9sVddTn",
        "outputId": "be5dbe49-3c41-493f-ce7c-f204f73da1ee"
      },
      "execution_count": null,
      "outputs": [
        {
          "output_type": "stream",
          "name": "stdout",
          "text": [
            "313/313 [==============================] - 1s 4ms/step - loss: 8.7740 - accuracy: 0.1010\n"
          ]
        },
        {
          "output_type": "execute_result",
          "data": {
            "text/plain": [
              "[8.773971557617188, 0.10100000351667404]"
            ]
          },
          "metadata": {},
          "execution_count": 31
        }
      ]
    },
    {
      "cell_type": "code",
      "source": [
        "tf.keras.backend.clear_session()\n",
        "tf.random.set_seed(42)"
      ],
      "metadata": {
        "id": "X05fTnpvMB5f"
      },
      "execution_count": null,
      "outputs": []
    },
    {
      "cell_type": "code",
      "source": [
        "model = Sequential()\n",
        "\n",
        "model.add(Flatten(input_shape=[32,32,3]))\n",
        "model.add(tf.keras.layers.BatchNormalization())\n",
        "\n",
        "for _ in range(20):\n",
        "  model.add(Dense(100, activation='swish', kernel_initializer='he_normal'))\n",
        "model.add(Dense(10, activation='softmax'))"
      ],
      "metadata": {
        "id": "HaXLoFMeLYeV"
      },
      "execution_count": null,
      "outputs": []
    },
    {
      "cell_type": "code",
      "source": [
        "optimizer = tf.keras.optimizers.Nadam(learning_rate=5e-5)\n",
        "model.compile(loss='sparse_categorical_crossentropy', optimizer=optimizer, metrics=['accuracy'])\n",
        "model.fit(X_train[:5000], y_train[:5000],epochs=10, validation_data=(X_train, y_train))"
      ],
      "metadata": {
        "colab": {
          "base_uri": "https://localhost:8080/"
        },
        "id": "GJtuyHMlMCx7",
        "outputId": "6d606a87-9153-46fd-8030-b2f028580799"
      },
      "execution_count": null,
      "outputs": [
        {
          "output_type": "stream",
          "name": "stdout",
          "text": [
            "Epoch 1/10\n",
            "157/157 [==============================] - 17s 51ms/step - loss: 2.2966 - accuracy: 0.1334 - val_loss: 2.2996 - val_accuracy: 0.1666\n",
            "Epoch 2/10\n",
            "157/157 [==============================] - 5s 31ms/step - loss: 2.2185 - accuracy: 0.1948 - val_loss: 2.1500 - val_accuracy: 0.2218\n",
            "Epoch 3/10\n",
            "157/157 [==============================] - 7s 45ms/step - loss: 2.0696 - accuracy: 0.2376 - val_loss: 2.0266 - val_accuracy: 0.2607\n",
            "Epoch 4/10\n",
            "157/157 [==============================] - 5s 30ms/step - loss: 1.9579 - accuracy: 0.2756 - val_loss: 1.9608 - val_accuracy: 0.2788\n",
            "Epoch 5/10\n",
            "157/157 [==============================] - 7s 45ms/step - loss: 1.8864 - accuracy: 0.3070 - val_loss: 1.9219 - val_accuracy: 0.2961\n",
            "Epoch 6/10\n",
            "157/157 [==============================] - 7s 45ms/step - loss: 1.8103 - accuracy: 0.3356 - val_loss: 1.8959 - val_accuracy: 0.3061\n",
            "Epoch 7/10\n",
            "157/157 [==============================] - 5s 33ms/step - loss: 1.7444 - accuracy: 0.3512 - val_loss: 1.8738 - val_accuracy: 0.3156\n",
            "Epoch 8/10\n",
            "157/157 [==============================] - 7s 45ms/step - loss: 1.6937 - accuracy: 0.3684 - val_loss: 1.8697 - val_accuracy: 0.3179\n",
            "Epoch 9/10\n",
            "157/157 [==============================] - 5s 34ms/step - loss: 1.6423 - accuracy: 0.3882 - val_loss: 1.8488 - val_accuracy: 0.3300\n",
            "Epoch 10/10\n",
            "157/157 [==============================] - 7s 45ms/step - loss: 1.6036 - accuracy: 0.3980 - val_loss: 1.8577 - val_accuracy: 0.3349\n"
          ]
        },
        {
          "output_type": "execute_result",
          "data": {
            "text/plain": [
              "<keras.src.callbacks.History at 0x78d6a03b6aa0>"
            ]
          },
          "metadata": {},
          "execution_count": 17
        }
      ]
    },
    {
      "cell_type": "code",
      "source": [
        "model.evaluate(X_train,y_train)"
      ],
      "metadata": {
        "colab": {
          "base_uri": "https://localhost:8080/"
        },
        "id": "5szvDmVydSjy",
        "outputId": "43fe5707-b2b6-4a68-8b08-3dcb3abc3229"
      },
      "execution_count": null,
      "outputs": [
        {
          "output_type": "stream",
          "name": "stdout",
          "text": [
            "1250/1250 [==============================] - 4s 3ms/step - loss: 3.7793 - accuracy: 0.4290\n"
          ]
        },
        {
          "output_type": "execute_result",
          "data": {
            "text/plain": [
              "[3.7793116569519043, 0.4290499985218048]"
            ]
          },
          "metadata": {},
          "execution_count": 28
        }
      ]
    },
    {
      "cell_type": "code",
      "source": [
        "model.evaluate(X_test,y_test)"
      ],
      "metadata": {
        "colab": {
          "base_uri": "https://localhost:8080/"
        },
        "id": "edRz8ZS4dUaZ",
        "outputId": "8ec91410-912e-45a0-e4fd-1c4247045d5c"
      },
      "execution_count": null,
      "outputs": [
        {
          "output_type": "stream",
          "name": "stdout",
          "text": [
            "313/313 [==============================] - 1s 3ms/step - loss: 8.7740 - accuracy: 0.1010\n"
          ]
        },
        {
          "output_type": "execute_result",
          "data": {
            "text/plain": [
              "[8.773971557617188, 0.10100000351667404]"
            ]
          },
          "metadata": {},
          "execution_count": 29
        }
      ]
    },
    {
      "cell_type": "code",
      "source": [
        "model = Sequential()\n",
        "model.add(Flatten(input_shape=[32,32,3]))\n",
        "model.add(tf.keras.layers.BatchNormalization())\n",
        "for _ in range(20):\n",
        "  model.add(Dense(100, activation='selu',kernel_initializer='lecun_normal'))\n",
        "model.add(Dense(10, activation='softmax'))\n",
        "optimizer = tf.keras.optimizers.Nadam(learning_rate=5e-5)\n",
        "model.compile(loss='sparse_categorical_crossentropy', optimizer=optimizer, metrics=['accuracy'])\n",
        "model.fit(X_train[:5000], y_train[:5000],epochs=10, validation_data=(X_train, y_train))"
      ],
      "metadata": {
        "colab": {
          "base_uri": "https://localhost:8080/"
        },
        "id": "2FlQ5GMIMFtx",
        "outputId": "05930ad5-8d76-4b3f-d192-1e2585a122c3"
      },
      "execution_count": null,
      "outputs": [
        {
          "output_type": "stream",
          "name": "stdout",
          "text": [
            "Epoch 1/10\n",
            "157/157 [==============================] - 15s 38ms/step - loss: 2.2643 - accuracy: 0.1920 - val_loss: 2.1423 - val_accuracy: 0.2364\n",
            "Epoch 2/10\n",
            "157/157 [==============================] - 7s 44ms/step - loss: 1.9458 - accuracy: 0.2992 - val_loss: 1.9355 - val_accuracy: 0.3018\n",
            "Epoch 3/10\n",
            "157/157 [==============================] - 5s 33ms/step - loss: 1.8377 - accuracy: 0.3314 - val_loss: 1.8842 - val_accuracy: 0.3215\n",
            "Epoch 4/10\n",
            "157/157 [==============================] - 7s 44ms/step - loss: 1.7492 - accuracy: 0.3766 - val_loss: 1.8506 - val_accuracy: 0.3375\n",
            "Epoch 5/10\n",
            "157/157 [==============================] - 7s 44ms/step - loss: 1.6883 - accuracy: 0.3852 - val_loss: 1.8071 - val_accuracy: 0.3580\n",
            "Epoch 6/10\n",
            "157/157 [==============================] - 4s 28ms/step - loss: 1.6196 - accuracy: 0.4190 - val_loss: 1.8028 - val_accuracy: 0.3555\n",
            "Epoch 7/10\n",
            "157/157 [==============================] - 7s 44ms/step - loss: 1.5639 - accuracy: 0.4408 - val_loss: 1.7718 - val_accuracy: 0.3708\n",
            "Epoch 8/10\n",
            "157/157 [==============================] - 5s 29ms/step - loss: 1.5061 - accuracy: 0.4532 - val_loss: 1.7761 - val_accuracy: 0.3771\n",
            "Epoch 9/10\n",
            "157/157 [==============================] - 7s 44ms/step - loss: 1.4366 - accuracy: 0.4854 - val_loss: 1.7883 - val_accuracy: 0.3776\n",
            "Epoch 10/10\n",
            "157/157 [==============================] - 4s 28ms/step - loss: 1.3988 - accuracy: 0.4986 - val_loss: 1.7843 - val_accuracy: 0.3792\n"
          ]
        },
        {
          "output_type": "execute_result",
          "data": {
            "text/plain": [
              "<keras.src.callbacks.History at 0x78d6a01ba830>"
            ]
          },
          "metadata": {},
          "execution_count": 18
        }
      ]
    },
    {
      "cell_type": "code",
      "source": [
        "early_stopping = EarlyStopping(patience= 5, monitor='loss')\n",
        "model.fit(X_train[:5000], y_train[:5000], epochs=100, callbacks=[early_stopping], validation_data=(X_train, y_train))"
      ],
      "metadata": {
        "colab": {
          "base_uri": "https://localhost:8080/"
        },
        "id": "zba6hXqFM2p2",
        "outputId": "0d4d6449-7fc7-4d0b-e63e-04fcb5472b61"
      },
      "execution_count": null,
      "outputs": [
        {
          "output_type": "stream",
          "name": "stdout",
          "text": [
            "Epoch 1/100\n",
            "157/157 [==============================] - 8s 48ms/step - loss: 1.3350 - accuracy: 0.5240 - val_loss: 1.7895 - val_accuracy: 0.3852\n",
            "Epoch 2/100\n",
            "157/157 [==============================] - 7s 44ms/step - loss: 1.2895 - accuracy: 0.5436 - val_loss: 1.7854 - val_accuracy: 0.3933\n",
            "Epoch 3/100\n",
            "157/157 [==============================] - 5s 32ms/step - loss: 1.2511 - accuracy: 0.5444 - val_loss: 1.8126 - val_accuracy: 0.3908\n",
            "Epoch 4/100\n",
            "157/157 [==============================] - 4s 29ms/step - loss: 1.1914 - accuracy: 0.5820 - val_loss: 1.8132 - val_accuracy: 0.3963\n",
            "Epoch 5/100\n",
            "157/157 [==============================] - 5s 30ms/step - loss: 1.1548 - accuracy: 0.6010 - val_loss: 1.7973 - val_accuracy: 0.4096\n",
            "Epoch 6/100\n",
            "157/157 [==============================] - 7s 45ms/step - loss: 1.1039 - accuracy: 0.6090 - val_loss: 1.8518 - val_accuracy: 0.3963\n",
            "Epoch 7/100\n",
            "157/157 [==============================] - 4s 29ms/step - loss: 1.0492 - accuracy: 0.6372 - val_loss: 1.8464 - val_accuracy: 0.4078\n",
            "Epoch 8/100\n",
            "157/157 [==============================] - 5s 30ms/step - loss: 1.0180 - accuracy: 0.6432 - val_loss: 1.8649 - val_accuracy: 0.4128\n",
            "Epoch 9/100\n",
            "157/157 [==============================] - 5s 29ms/step - loss: 0.9605 - accuracy: 0.6648 - val_loss: 1.9319 - val_accuracy: 0.3992\n",
            "Epoch 10/100\n",
            "157/157 [==============================] - 5s 33ms/step - loss: 0.9204 - accuracy: 0.6820 - val_loss: 1.9272 - val_accuracy: 0.4087\n",
            "Epoch 11/100\n",
            "157/157 [==============================] - 4s 29ms/step - loss: 0.9049 - accuracy: 0.6770 - val_loss: 1.9482 - val_accuracy: 0.4144\n",
            "Epoch 12/100\n",
            "157/157 [==============================] - 7s 44ms/step - loss: 0.8688 - accuracy: 0.6900 - val_loss: 1.9804 - val_accuracy: 0.4136\n",
            "Epoch 13/100\n",
            "157/157 [==============================] - 7s 44ms/step - loss: 0.8527 - accuracy: 0.7006 - val_loss: 2.0168 - val_accuracy: 0.4129\n",
            "Epoch 14/100\n",
            "157/157 [==============================] - 7s 44ms/step - loss: 0.8144 - accuracy: 0.7176 - val_loss: 2.0408 - val_accuracy: 0.4106\n",
            "Epoch 15/100\n",
            "157/157 [==============================] - 4s 29ms/step - loss: 0.8048 - accuracy: 0.7164 - val_loss: 2.0258 - val_accuracy: 0.4177\n",
            "Epoch 16/100\n",
            "157/157 [==============================] - 5s 32ms/step - loss: 0.7430 - accuracy: 0.7402 - val_loss: 2.0666 - val_accuracy: 0.4252\n",
            "Epoch 17/100\n",
            "157/157 [==============================] - 5s 29ms/step - loss: 0.7142 - accuracy: 0.7530 - val_loss: 2.1262 - val_accuracy: 0.4191\n",
            "Epoch 18/100\n",
            "157/157 [==============================] - 4s 28ms/step - loss: 0.7098 - accuracy: 0.7526 - val_loss: 2.1579 - val_accuracy: 0.4180\n",
            "Epoch 19/100\n",
            "157/157 [==============================] - 7s 45ms/step - loss: 0.6746 - accuracy: 0.7622 - val_loss: 2.1652 - val_accuracy: 0.4198\n",
            "Epoch 20/100\n",
            "157/157 [==============================] - 5s 30ms/step - loss: 0.6367 - accuracy: 0.7838 - val_loss: 2.1883 - val_accuracy: 0.4307\n",
            "Epoch 21/100\n",
            "157/157 [==============================] - 7s 44ms/step - loss: 0.6053 - accuracy: 0.7888 - val_loss: 2.3099 - val_accuracy: 0.4141\n",
            "Epoch 22/100\n",
            "157/157 [==============================] - 7s 44ms/step - loss: 0.6129 - accuracy: 0.7846 - val_loss: 2.2502 - val_accuracy: 0.4269\n",
            "Epoch 23/100\n",
            "157/157 [==============================] - 5s 31ms/step - loss: 0.5709 - accuracy: 0.8030 - val_loss: 2.3237 - val_accuracy: 0.4237\n",
            "Epoch 24/100\n",
            "157/157 [==============================] - 7s 44ms/step - loss: 0.5616 - accuracy: 0.8006 - val_loss: 2.3191 - val_accuracy: 0.4309\n",
            "Epoch 25/100\n",
            "157/157 [==============================] - 5s 32ms/step - loss: 0.5097 - accuracy: 0.8314 - val_loss: 2.3590 - val_accuracy: 0.4277\n",
            "Epoch 26/100\n",
            "157/157 [==============================] - 7s 44ms/step - loss: 0.4855 - accuracy: 0.8386 - val_loss: 2.4031 - val_accuracy: 0.4299\n",
            "Epoch 27/100\n",
            "157/157 [==============================] - 5s 32ms/step - loss: 0.4706 - accuracy: 0.8390 - val_loss: 2.4641 - val_accuracy: 0.4278\n",
            "Epoch 28/100\n",
            "157/157 [==============================] - 4s 28ms/step - loss: 0.4502 - accuracy: 0.8484 - val_loss: 2.5330 - val_accuracy: 0.4150\n",
            "Epoch 29/100\n",
            "157/157 [==============================] - 5s 30ms/step - loss: 0.4717 - accuracy: 0.8408 - val_loss: 2.5113 - val_accuracy: 0.4284\n",
            "Epoch 30/100\n",
            "157/157 [==============================] - 5s 30ms/step - loss: 0.4330 - accuracy: 0.8568 - val_loss: 2.5517 - val_accuracy: 0.4270\n",
            "Epoch 31/100\n",
            "157/157 [==============================] - 5s 29ms/step - loss: 0.3880 - accuracy: 0.8678 - val_loss: 2.5708 - val_accuracy: 0.4248\n",
            "Epoch 32/100\n",
            "157/157 [==============================] - 5s 33ms/step - loss: 0.4140 - accuracy: 0.8626 - val_loss: 2.5787 - val_accuracy: 0.4330\n",
            "Epoch 33/100\n",
            "157/157 [==============================] - 7s 44ms/step - loss: 0.4129 - accuracy: 0.8592 - val_loss: 2.6078 - val_accuracy: 0.4331\n",
            "Epoch 34/100\n",
            "157/157 [==============================] - 5s 33ms/step - loss: 0.3850 - accuracy: 0.8658 - val_loss: 2.6109 - val_accuracy: 0.4342\n",
            "Epoch 35/100\n",
            "157/157 [==============================] - 5s 29ms/step - loss: 0.3690 - accuracy: 0.8748 - val_loss: 2.6911 - val_accuracy: 0.4348\n",
            "Epoch 36/100\n",
            "157/157 [==============================] - 7s 44ms/step - loss: 0.3846 - accuracy: 0.8686 - val_loss: 2.7392 - val_accuracy: 0.4214\n",
            "Epoch 37/100\n",
            "157/157 [==============================] - 7s 44ms/step - loss: 0.3680 - accuracy: 0.8754 - val_loss: 2.7504 - val_accuracy: 0.4242\n",
            "Epoch 38/100\n",
            "157/157 [==============================] - 5s 33ms/step - loss: 0.3752 - accuracy: 0.8716 - val_loss: 2.7452 - val_accuracy: 0.4275\n",
            "Epoch 39/100\n",
            "157/157 [==============================] - 5s 29ms/step - loss: 0.3388 - accuracy: 0.8860 - val_loss: 2.8048 - val_accuracy: 0.4325\n",
            "Epoch 40/100\n",
            "157/157 [==============================] - 5s 29ms/step - loss: 0.3181 - accuracy: 0.8948 - val_loss: 2.8241 - val_accuracy: 0.4214\n",
            "Epoch 41/100\n",
            "157/157 [==============================] - 5s 30ms/step - loss: 0.3377 - accuracy: 0.8810 - val_loss: 2.8605 - val_accuracy: 0.4295\n",
            "Epoch 42/100\n",
            "157/157 [==============================] - 7s 44ms/step - loss: 0.3210 - accuracy: 0.8980 - val_loss: 2.9271 - val_accuracy: 0.4236\n",
            "Epoch 43/100\n",
            "157/157 [==============================] - 7s 45ms/step - loss: 0.3171 - accuracy: 0.8954 - val_loss: 2.9006 - val_accuracy: 0.4351\n",
            "Epoch 44/100\n",
            "157/157 [==============================] - 7s 44ms/step - loss: 0.2870 - accuracy: 0.8998 - val_loss: 2.8957 - val_accuracy: 0.4334\n",
            "Epoch 45/100\n",
            "157/157 [==============================] - 4s 29ms/step - loss: 0.2928 - accuracy: 0.9002 - val_loss: 2.9851 - val_accuracy: 0.4286\n",
            "Epoch 46/100\n",
            "157/157 [==============================] - 7s 44ms/step - loss: 0.2744 - accuracy: 0.9090 - val_loss: 2.9899 - val_accuracy: 0.4342\n",
            "Epoch 47/100\n",
            "157/157 [==============================] - 7s 44ms/step - loss: 0.2741 - accuracy: 0.9108 - val_loss: 2.9854 - val_accuracy: 0.4356\n",
            "Epoch 48/100\n",
            "157/157 [==============================] - 7s 44ms/step - loss: 0.2835 - accuracy: 0.9060 - val_loss: 2.9805 - val_accuracy: 0.4349\n",
            "Epoch 49/100\n",
            "157/157 [==============================] - 7s 44ms/step - loss: 0.2354 - accuracy: 0.9204 - val_loss: 3.0496 - val_accuracy: 0.4349\n",
            "Epoch 50/100\n",
            "157/157 [==============================] - 6s 35ms/step - loss: 0.2339 - accuracy: 0.9246 - val_loss: 3.0595 - val_accuracy: 0.4337\n",
            "Epoch 51/100\n",
            "157/157 [==============================] - 5s 32ms/step - loss: 0.2594 - accuracy: 0.9160 - val_loss: 3.0869 - val_accuracy: 0.4284\n",
            "Epoch 52/100\n",
            "157/157 [==============================] - 5s 33ms/step - loss: 0.2274 - accuracy: 0.9274 - val_loss: 3.1183 - val_accuracy: 0.4300\n",
            "Epoch 53/100\n",
            "157/157 [==============================] - 7s 44ms/step - loss: 0.2232 - accuracy: 0.9268 - val_loss: 3.1796 - val_accuracy: 0.4299\n",
            "Epoch 54/100\n",
            "157/157 [==============================] - 5s 33ms/step - loss: 0.2423 - accuracy: 0.9196 - val_loss: 3.2180 - val_accuracy: 0.4301\n",
            "Epoch 55/100\n",
            "157/157 [==============================] - 4s 29ms/step - loss: 0.2469 - accuracy: 0.9136 - val_loss: 3.1217 - val_accuracy: 0.4364\n",
            "Epoch 56/100\n",
            "157/157 [==============================] - 7s 44ms/step - loss: 0.2262 - accuracy: 0.9266 - val_loss: 3.1824 - val_accuracy: 0.4359\n",
            "Epoch 57/100\n",
            "157/157 [==============================] - 4s 29ms/step - loss: 0.2515 - accuracy: 0.9206 - val_loss: 3.1789 - val_accuracy: 0.4300\n",
            "Epoch 58/100\n",
            "157/157 [==============================] - 5s 29ms/step - loss: 0.2160 - accuracy: 0.9254 - val_loss: 3.2413 - val_accuracy: 0.4349\n",
            "Epoch 59/100\n",
            "157/157 [==============================] - 7s 45ms/step - loss: 0.2251 - accuracy: 0.9212 - val_loss: 3.2622 - val_accuracy: 0.4382\n",
            "Epoch 60/100\n",
            "157/157 [==============================] - 5s 30ms/step - loss: 0.2038 - accuracy: 0.9338 - val_loss: 3.3009 - val_accuracy: 0.4373\n",
            "Epoch 61/100\n",
            "157/157 [==============================] - 7s 45ms/step - loss: 0.2097 - accuracy: 0.9308 - val_loss: 3.3004 - val_accuracy: 0.4356\n",
            "Epoch 62/100\n",
            "157/157 [==============================] - 7s 44ms/step - loss: 0.2445 - accuracy: 0.9184 - val_loss: 3.2776 - val_accuracy: 0.4341\n",
            "Epoch 63/100\n",
            "157/157 [==============================] - 7s 45ms/step - loss: 0.2082 - accuracy: 0.9290 - val_loss: 3.3337 - val_accuracy: 0.4300\n",
            "Epoch 64/100\n",
            "157/157 [==============================] - 5s 29ms/step - loss: 0.2365 - accuracy: 0.9182 - val_loss: 3.3591 - val_accuracy: 0.4267\n",
            "Epoch 65/100\n",
            "157/157 [==============================] - 7s 46ms/step - loss: 0.2111 - accuracy: 0.9296 - val_loss: 3.2900 - val_accuracy: 0.4397\n",
            "Epoch 66/100\n",
            "157/157 [==============================] - 5s 29ms/step - loss: 0.1986 - accuracy: 0.9314 - val_loss: 3.3643 - val_accuracy: 0.4352\n",
            "Epoch 67/100\n",
            "157/157 [==============================] - 5s 31ms/step - loss: 0.2304 - accuracy: 0.9174 - val_loss: 3.3244 - val_accuracy: 0.4332\n",
            "Epoch 68/100\n",
            "157/157 [==============================] - 7s 45ms/step - loss: 0.1925 - accuracy: 0.9376 - val_loss: 3.3530 - val_accuracy: 0.4334\n",
            "Epoch 69/100\n",
            "157/157 [==============================] - 5s 32ms/step - loss: 0.1805 - accuracy: 0.9396 - val_loss: 3.3451 - val_accuracy: 0.4394\n",
            "Epoch 70/100\n",
            "157/157 [==============================] - 7s 44ms/step - loss: 0.1692 - accuracy: 0.9418 - val_loss: 3.4464 - val_accuracy: 0.4338\n",
            "Epoch 71/100\n",
            "157/157 [==============================] - 5s 32ms/step - loss: 0.2114 - accuracy: 0.9302 - val_loss: 3.3909 - val_accuracy: 0.4373\n",
            "Epoch 72/100\n",
            "157/157 [==============================] - 4s 28ms/step - loss: 0.1782 - accuracy: 0.9412 - val_loss: 3.4291 - val_accuracy: 0.4345\n",
            "Epoch 73/100\n",
            "157/157 [==============================] - 7s 44ms/step - loss: 0.1691 - accuracy: 0.9462 - val_loss: 3.4440 - val_accuracy: 0.4267\n",
            "Epoch 74/100\n",
            "157/157 [==============================] - 5s 29ms/step - loss: 0.1565 - accuracy: 0.9504 - val_loss: 3.4403 - val_accuracy: 0.4306\n",
            "Epoch 75/100\n",
            "157/157 [==============================] - 5s 30ms/step - loss: 0.1605 - accuracy: 0.9474 - val_loss: 3.4736 - val_accuracy: 0.4351\n",
            "Epoch 76/100\n",
            "157/157 [==============================] - 5s 30ms/step - loss: 0.1765 - accuracy: 0.9428 - val_loss: 3.5223 - val_accuracy: 0.4309\n",
            "Epoch 77/100\n",
            "157/157 [==============================] - 4s 28ms/step - loss: 0.1586 - accuracy: 0.9456 - val_loss: 3.6211 - val_accuracy: 0.4174\n",
            "Epoch 78/100\n",
            "157/157 [==============================] - 7s 44ms/step - loss: 0.1660 - accuracy: 0.9470 - val_loss: 3.5614 - val_accuracy: 0.4340\n",
            "Epoch 79/100\n",
            "157/157 [==============================] - 7s 44ms/step - loss: 0.1844 - accuracy: 0.9376 - val_loss: 3.5562 - val_accuracy: 0.4337\n",
            "Epoch 80/100\n",
            "157/157 [==============================] - 7s 45ms/step - loss: 0.1697 - accuracy: 0.9418 - val_loss: 3.5207 - val_accuracy: 0.4348\n",
            "Epoch 81/100\n",
            "157/157 [==============================] - 7s 44ms/step - loss: 0.1720 - accuracy: 0.9450 - val_loss: 3.5349 - val_accuracy: 0.4270\n",
            "Epoch 82/100\n",
            "157/157 [==============================] - 7s 45ms/step - loss: 0.1535 - accuracy: 0.9502 - val_loss: 3.5710 - val_accuracy: 0.4355\n",
            "Epoch 83/100\n",
            "157/157 [==============================] - 7s 45ms/step - loss: 0.1775 - accuracy: 0.9418 - val_loss: 3.5902 - val_accuracy: 0.4329\n",
            "Epoch 84/100\n",
            "157/157 [==============================] - 7s 44ms/step - loss: 0.1586 - accuracy: 0.9492 - val_loss: 3.5905 - val_accuracy: 0.4330\n",
            "Epoch 85/100\n",
            "157/157 [==============================] - 5s 33ms/step - loss: 0.1438 - accuracy: 0.9532 - val_loss: 3.5970 - val_accuracy: 0.4353\n",
            "Epoch 86/100\n",
            "157/157 [==============================] - 5s 29ms/step - loss: 0.1575 - accuracy: 0.9500 - val_loss: 3.6062 - val_accuracy: 0.4320\n",
            "Epoch 87/100\n",
            "157/157 [==============================] - 5s 30ms/step - loss: 0.1694 - accuracy: 0.9408 - val_loss: 3.5997 - val_accuracy: 0.4367\n",
            "Epoch 88/100\n",
            "157/157 [==============================] - 7s 45ms/step - loss: 0.1376 - accuracy: 0.9576 - val_loss: 3.6280 - val_accuracy: 0.4330\n",
            "Epoch 89/100\n",
            "157/157 [==============================] - 5s 29ms/step - loss: 0.1471 - accuracy: 0.9518 - val_loss: 3.5897 - val_accuracy: 0.4318\n",
            "Epoch 90/100\n",
            "157/157 [==============================] - 5s 32ms/step - loss: 0.1534 - accuracy: 0.9478 - val_loss: 3.6733 - val_accuracy: 0.4229\n",
            "Epoch 91/100\n",
            "157/157 [==============================] - 7s 44ms/step - loss: 0.1797 - accuracy: 0.9416 - val_loss: 3.6176 - val_accuracy: 0.4305\n",
            "Epoch 92/100\n",
            "157/157 [==============================] - 5s 31ms/step - loss: 0.1549 - accuracy: 0.9488 - val_loss: 3.7007 - val_accuracy: 0.4260\n",
            "Epoch 93/100\n",
            "157/157 [==============================] - 7s 44ms/step - loss: 0.1773 - accuracy: 0.9394 - val_loss: 3.6191 - val_accuracy: 0.4349\n",
            "Epoch 94/100\n",
            "157/157 [==============================] - 5s 33ms/step - loss: 0.1240 - accuracy: 0.9614 - val_loss: 3.6485 - val_accuracy: 0.4369\n",
            "Epoch 95/100\n",
            "157/157 [==============================] - 4s 29ms/step - loss: 0.1397 - accuracy: 0.9530 - val_loss: 3.6665 - val_accuracy: 0.4383\n",
            "Epoch 96/100\n",
            "157/157 [==============================] - 7s 44ms/step - loss: 0.1329 - accuracy: 0.9586 - val_loss: 3.7091 - val_accuracy: 0.4333\n",
            "Epoch 97/100\n",
            "157/157 [==============================] - 7s 44ms/step - loss: 0.1644 - accuracy: 0.9450 - val_loss: 3.6788 - val_accuracy: 0.4317\n",
            "Epoch 98/100\n",
            "157/157 [==============================] - 7s 44ms/step - loss: 0.1383 - accuracy: 0.9550 - val_loss: 3.7260 - val_accuracy: 0.4325\n",
            "Epoch 99/100\n",
            "157/157 [==============================] - 5s 29ms/step - loss: 0.1347 - accuracy: 0.9572 - val_loss: 3.7312 - val_accuracy: 0.4383\n",
            "Epoch 100/100\n",
            "157/157 [==============================] - 5s 33ms/step - loss: 0.1229 - accuracy: 0.9606 - val_loss: 3.7806 - val_accuracy: 0.4296\n"
          ]
        },
        {
          "output_type": "execute_result",
          "data": {
            "text/plain": [
              "<keras.src.callbacks.History at 0x78d68c73bbe0>"
            ]
          },
          "metadata": {},
          "execution_count": 19
        }
      ]
    },
    {
      "cell_type": "code",
      "source": [
        "model.evaluate(X_train,y_train)"
      ],
      "metadata": {
        "colab": {
          "base_uri": "https://localhost:8080/"
        },
        "id": "TKVuPDDHdCLb",
        "outputId": "3cd51674-b4f5-4c1d-a408-25bd9990ee82"
      },
      "execution_count": null,
      "outputs": [
        {
          "output_type": "stream",
          "name": "stdout",
          "text": [
            "1250/1250 [==============================] - 4s 3ms/step - loss: 3.7793 - accuracy: 0.4290\n"
          ]
        },
        {
          "output_type": "execute_result",
          "data": {
            "text/plain": [
              "[3.7793116569519043, 0.4290499985218048]"
            ]
          },
          "metadata": {},
          "execution_count": 26
        }
      ]
    },
    {
      "cell_type": "code",
      "source": [
        "model.evaluate(X_test, y_test)"
      ],
      "metadata": {
        "colab": {
          "base_uri": "https://localhost:8080/"
        },
        "id": "1_2Iz2OJdI_0",
        "outputId": "90004736-2806-4b4b-8e0b-04a65ba6f2fa"
      },
      "execution_count": null,
      "outputs": [
        {
          "output_type": "stream",
          "name": "stdout",
          "text": [
            "313/313 [==============================] - 2s 5ms/step - loss: 8.7740 - accuracy: 0.1010\n"
          ]
        },
        {
          "output_type": "execute_result",
          "data": {
            "text/plain": [
              "[8.773971557617188, 0.10100000351667404]"
            ]
          },
          "metadata": {},
          "execution_count": 27
        }
      ]
    },
    {
      "cell_type": "code",
      "source": [
        "tf.random.set_seed(42)"
      ],
      "metadata": {
        "id": "ja8h2dqjM3ci"
      },
      "execution_count": null,
      "outputs": []
    },
    {
      "cell_type": "code",
      "source": [
        "y_probas = np.stack([model(X_test, training=True)\n",
        "                    for sample in range(100)])\n",
        "y_proba = y_probas.mean(axis=0)"
      ],
      "metadata": {
        "id": "FFhZhYxbM6Pg"
      },
      "execution_count": null,
      "outputs": []
    },
    {
      "cell_type": "code",
      "source": [
        "model.predict(X_test[:1]).round(3)"
      ],
      "metadata": {
        "colab": {
          "base_uri": "https://localhost:8080/"
        },
        "id": "VgRpQ6xNM9pg",
        "outputId": "73219e0a-1ced-4d7f-dffa-686cf01bae3f"
      },
      "execution_count": null,
      "outputs": [
        {
          "output_type": "stream",
          "name": "stdout",
          "text": [
            "1/1 [==============================] - 0s 270ms/step\n"
          ]
        },
        {
          "output_type": "execute_result",
          "data": {
            "text/plain": [
              "array([[0.   , 0.   , 0.   , 0.001, 0.999, 0.   , 0.   , 0.   , 0.   ,\n",
              "        0.   ]], dtype=float32)"
            ]
          },
          "metadata": {},
          "execution_count": 22
        }
      ]
    },
    {
      "cell_type": "code",
      "source": [
        "y_proba[0].round(3)"
      ],
      "metadata": {
        "colab": {
          "base_uri": "https://localhost:8080/"
        },
        "id": "_pJpIy_CNKU-",
        "outputId": "8120aef8-64a1-44a1-84fc-67e25dfa6a66"
      },
      "execution_count": null,
      "outputs": [
        {
          "output_type": "execute_result",
          "data": {
            "text/plain": [
              "array([0.   , 0.   , 0.   , 0.001, 0.999, 0.   , 0.   , 0.   , 0.   ,\n",
              "       0.   ], dtype=float32)"
            ]
          },
          "metadata": {},
          "execution_count": 23
        }
      ]
    },
    {
      "cell_type": "code",
      "source": [
        "y_std = y_probas.std(axis=0)\n",
        "y_std[0].round(3)"
      ],
      "metadata": {
        "id": "QufjHD7ENMqT",
        "colab": {
          "base_uri": "https://localhost:8080/"
        },
        "outputId": "c4491bac-7873-4f9b-f964-9bc5ebe90aee"
      },
      "execution_count": null,
      "outputs": [
        {
          "output_type": "execute_result",
          "data": {
            "text/plain": [
              "array([0., 0., 0., 0., 0., 0., 0., 0., 0., 0.], dtype=float32)"
            ]
          },
          "metadata": {},
          "execution_count": 24
        }
      ]
    },
    {
      "cell_type": "code",
      "source": [],
      "metadata": {
        "id": "aPZdosDcPmSO",
        "colab": {
          "base_uri": "https://localhost:8080/"
        },
        "outputId": "6d65055d-e7ce-4b60-d861-072195302feb"
      },
      "execution_count": null,
      "outputs": [
        {
          "output_type": "execute_result",
          "data": {
            "text/plain": [
              "1000.0"
            ]
          },
          "metadata": {},
          "execution_count": 25
        }
      ]
    },
    {
      "cell_type": "code",
      "source": [
        "tf.random.set_seed(42)\n",
        "# selu da outdopout ist elemek olmaz, alpha dropout olar\n",
        "model = Sequential()\n",
        "model.add(Flatten(input_shape=[32,32,3]))\n",
        "\n",
        "for _ in range(20):\n",
        "  model.add(Dense(100, activation='selu', kernel_initializer='lecun_normal'))\n",
        "model.add(Dense(10, activation='softmax'))\n"
      ],
      "metadata": {
        "id": "0wUvY0eHfpOX"
      },
      "execution_count": null,
      "outputs": []
    }
  ]
}